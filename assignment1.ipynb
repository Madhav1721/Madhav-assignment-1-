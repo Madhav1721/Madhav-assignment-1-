{
 "cells": [
  {
   "cell_type": "code",
   "execution_count": 13,
   "id": "ea6978ad",
   "metadata": {},
   "outputs": [
    {
     "name": "stdout",
     "output_type": "stream",
     "text": [
      "enter 1st no. 5\n",
      "enter 2nd no. 6\n",
      "enter 3rd no. 3\n",
      "4.666666666666667\n"
     ]
    }
   ],
   "source": [
    "a=float(input(\"enter 1st no. \"))\n",
    "b=float(input(\"enter 2nd no. \"))\n",
    "c=float(input(\"enter 3rd no. \"))\n",
    "d=(a+b+c)/3\n",
    "print(d)\n"
   ]
  },
  {
   "cell_type": "code",
   "execution_count": 3,
   "id": "3b9b221d",
   "metadata": {},
   "outputs": [
    {
     "name": "stdout",
     "output_type": "stream",
     "text": [
      "enter gros income3000\n",
      "enter number of independents5\n",
      "net tax is -2400.0\n"
     ]
    }
   ],
   "source": [
    "gi=float(input(\"enter gros income\"))\n",
    "nod=int(input(\"enter number of independents\"))\n",
    "ti=gi-float(3000*nod)\n",
    "net_tax=float(ti*0.2)\n",
    "print(\"net tax is\", net_tax)"
   ]
  },
  {
   "cell_type": "code",
   "execution_count": null,
   "id": "7a332fa6",
   "metadata": {},
   "outputs": [],
   "source": []
  },
  {
   "cell_type": "code",
   "execution_count": 5,
   "id": "a431a4b8",
   "metadata": {},
   "outputs": [
    {
     "name": "stdout",
     "output_type": "stream",
     "text": [
      "enter a number200\n",
      "minutes=  3\n",
      "seconds=  20\n"
     ]
    }
   ],
   "source": [
    "a=int(input(\"enter a number\"))\n",
    "b=a//60\n",
    "c=a%60\n",
    "print(\"minutes= \",b)\n",
    "print(\"seconds= \",c)"
   ]
  },
  {
   "cell_type": "code",
   "execution_count": 8,
   "id": "45087b48",
   "metadata": {},
   "outputs": [
    {
     "name": "stdout",
     "output_type": "stream",
     "text": [
      "75.0\n"
     ]
    }
   ],
   "source": [
    "a= 25\n",
    "b= '25'\n",
    "c= 25.0\n",
    "d=a +int(b)+float(c)\n",
    "print(str(d))"
   ]
  },
  {
   "cell_type": "code",
   "execution_count": 12,
   "id": "2d5950e4",
   "metadata": {},
   "outputs": [
    {
     "name": "stdout",
     "output_type": "stream",
     "text": [
      "0---0.0   1.0\n",
      "15---0.2588   0.9659\n",
      "30---0.5   0.866\n",
      "45---0.7071   0.7071\n",
      "60---0.866   0.5\n",
      "75---0.9659   0.2588\n",
      "90---1.0   0.0\n",
      "105---0.9659   -0.2588\n",
      "120---0.866   -0.5\n",
      "135---0.7071   -0.7071\n",
      "150---0.5   -0.866\n",
      "165---0.2588   -0.9659\n",
      "180---0.0   -1.0\n",
      "195----0.2588   -0.9659\n",
      "210----0.5   -0.866\n",
      "225----0.7071   -0.7071\n",
      "240----0.866   -0.5\n",
      "255----0.9659   -0.2588\n",
      "270----1.0   -0.0\n",
      "285----0.9659   0.2588\n",
      "300----0.866   0.5\n",
      "315----0.7071   0.7071\n",
      "330----0.5   0.866\n",
      "345----0.2588   0.9659\n"
     ]
    }
   ],
   "source": [
    "import math as m\n",
    "\n",
    "for i in range(0,346,15):\n",
    "    b = float( i * (m.pi/180))\n",
    "    print(\"\" + str(i) + \"---\" + str(round(m.sin(b),4)) + \"   \" + str(round(m.cos(b),4)))\n",
    "    #print(round(m.sin(b),4))"
   ]
  },
  {
   "cell_type": "code",
   "execution_count": null,
   "id": "cf1ebc9d",
   "metadata": {},
   "outputs": [],
   "source": []
  },
  {
   "cell_type": "code",
   "execution_count": null,
   "id": "6c95f57e",
   "metadata": {},
   "outputs": [],
   "source": []
  }
 ],
 "metadata": {
  "kernelspec": {
   "display_name": "Python 3 (ipykernel)",
   "language": "python",
   "name": "python3"
  },
  "language_info": {
   "codemirror_mode": {
    "name": "ipython",
    "version": 3
   },
   "file_extension": ".py",
   "mimetype": "text/x-python",
   "name": "python",
   "nbconvert_exporter": "python",
   "pygments_lexer": "ipython3",
   "version": "3.9.13"
  }
 },
 "nbformat": 4,
 "nbformat_minor": 5
}
